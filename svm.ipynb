{
 "cells": [
  {
   "cell_type": "code",
   "execution_count": 1,
   "metadata": {},
   "outputs": [],
   "source": [
    "import warnings\n",
    "warnings.filterwarnings('ignore')\n",
    "import numpy as np\n",
    "import pandas as pd\n",
    "from sklearn.svm import OneClassSVM\n",
    "from sklearn.decomposition import PCA\n",
    "import matplotlib\n",
    "import matplotlib.pyplot as plt\n",
    "from sklearn.preprocessing import StandardScaler\n",
    "plt.rcParams[\"figure.figsize\"] = (20,10)"
   ]
  },
  {
   "cell_type": "code",
   "execution_count": 2,
   "metadata": {},
   "outputs": [
    {
     "data": {
      "text/html": [
       "<div>\n",
       "<style scoped>\n",
       "    .dataframe tbody tr th:only-of-type {\n",
       "        vertical-align: middle;\n",
       "    }\n",
       "\n",
       "    .dataframe tbody tr th {\n",
       "        vertical-align: top;\n",
       "    }\n",
       "\n",
       "    .dataframe thead th {\n",
       "        text-align: right;\n",
       "    }\n",
       "</style>\n",
       "<table border=\"1\" class=\"dataframe\">\n",
       "  <thead>\n",
       "    <tr style=\"text-align: right;\">\n",
       "      <th></th>\n",
       "      <th>windspeed</th>\n",
       "      <th>power</th>\n",
       "      <th>wind_direction_Angle</th>\n",
       "      <th>rtr_rpm</th>\n",
       "      <th>pitch_Angle</th>\n",
       "      <th>generation</th>\n",
       "      <th>wheel_hub_temperature</th>\n",
       "      <th>ambient_Temperature</th>\n",
       "      <th>Tower_bottom_ambient_temperature</th>\n",
       "    </tr>\n",
       "  </thead>\n",
       "  <tbody>\n",
       "    <tr>\n",
       "      <th>count</th>\n",
       "      <td>42592.000000</td>\n",
       "      <td>42592.000000</td>\n",
       "      <td>42592.000000</td>\n",
       "      <td>42592.000000</td>\n",
       "      <td>42592.000000</td>\n",
       "      <td>4.259200e+04</td>\n",
       "      <td>42592.000000</td>\n",
       "      <td>42592.000000</td>\n",
       "      <td>42592.000000</td>\n",
       "    </tr>\n",
       "    <tr>\n",
       "      <th>mean</th>\n",
       "      <td>4.693273</td>\n",
       "      <td>653.797555</td>\n",
       "      <td>171.081463</td>\n",
       "      <td>7.227109</td>\n",
       "      <td>8.868844</td>\n",
       "      <td>5.665854e+06</td>\n",
       "      <td>22.785580</td>\n",
       "      <td>15.840264</td>\n",
       "      <td>29.088985</td>\n",
       "    </tr>\n",
       "    <tr>\n",
       "      <th>std</th>\n",
       "      <td>2.770764</td>\n",
       "      <td>739.499557</td>\n",
       "      <td>48.802821</td>\n",
       "      <td>3.840320</td>\n",
       "      <td>21.170777</td>\n",
       "      <td>1.233734e+06</td>\n",
       "      <td>8.086884</td>\n",
       "      <td>9.347388</td>\n",
       "      <td>6.523025</td>\n",
       "    </tr>\n",
       "    <tr>\n",
       "      <th>min</th>\n",
       "      <td>0.020000</td>\n",
       "      <td>-29.840000</td>\n",
       "      <td>0.000000</td>\n",
       "      <td>0.210000</td>\n",
       "      <td>-0.580000</td>\n",
       "      <td>2.872434e+06</td>\n",
       "      <td>-4.830000</td>\n",
       "      <td>-13.060000</td>\n",
       "      <td>2.960000</td>\n",
       "    </tr>\n",
       "    <tr>\n",
       "      <th>25%</th>\n",
       "      <td>2.680000</td>\n",
       "      <td>60.047500</td>\n",
       "      <td>175.170000</td>\n",
       "      <td>5.000000</td>\n",
       "      <td>-0.520000</td>\n",
       "      <td>4.843144e+06</td>\n",
       "      <td>17.590000</td>\n",
       "      <td>9.950000</td>\n",
       "      <td>25.087500</td>\n",
       "    </tr>\n",
       "    <tr>\n",
       "      <th>50%</th>\n",
       "      <td>4.300000</td>\n",
       "      <td>323.215000</td>\n",
       "      <td>180.520000</td>\n",
       "      <td>7.120000</td>\n",
       "      <td>-0.500000</td>\n",
       "      <td>5.916913e+06</td>\n",
       "      <td>23.820000</td>\n",
       "      <td>17.280000</td>\n",
       "      <td>30.310000</td>\n",
       "    </tr>\n",
       "    <tr>\n",
       "      <th>75%</th>\n",
       "      <td>6.372500</td>\n",
       "      <td>1056.462500</td>\n",
       "      <td>185.160000</td>\n",
       "      <td>10.540000</td>\n",
       "      <td>1.950000</td>\n",
       "      <td>6.577421e+06</td>\n",
       "      <td>29.562500</td>\n",
       "      <td>23.180000</td>\n",
       "      <td>33.890000</td>\n",
       "    </tr>\n",
       "    <tr>\n",
       "      <th>max</th>\n",
       "      <td>19.210000</td>\n",
       "      <td>2224.870000</td>\n",
       "      <td>355.970000</td>\n",
       "      <td>12.480000</td>\n",
       "      <td>90.470000</td>\n",
       "      <td>7.529655e+06</td>\n",
       "      <td>37.210000</td>\n",
       "      <td>36.210000</td>\n",
       "      <td>44.830000</td>\n",
       "    </tr>\n",
       "  </tbody>\n",
       "</table>\n",
       "</div>"
      ],
      "text/plain": [
       "          windspeed         power  wind_direction_Angle       rtr_rpm  \\\n",
       "count  42592.000000  42592.000000          42592.000000  42592.000000   \n",
       "mean       4.693273    653.797555            171.081463      7.227109   \n",
       "std        2.770764    739.499557             48.802821      3.840320   \n",
       "min        0.020000    -29.840000              0.000000      0.210000   \n",
       "25%        2.680000     60.047500            175.170000      5.000000   \n",
       "50%        4.300000    323.215000            180.520000      7.120000   \n",
       "75%        6.372500   1056.462500            185.160000     10.540000   \n",
       "max       19.210000   2224.870000            355.970000     12.480000   \n",
       "\n",
       "        pitch_Angle    generation  wheel_hub_temperature  ambient_Temperature  \\\n",
       "count  42592.000000  4.259200e+04           42592.000000         42592.000000   \n",
       "mean       8.868844  5.665854e+06              22.785580            15.840264   \n",
       "std       21.170777  1.233734e+06               8.086884             9.347388   \n",
       "min       -0.580000  2.872434e+06              -4.830000           -13.060000   \n",
       "25%       -0.520000  4.843144e+06              17.590000             9.950000   \n",
       "50%       -0.500000  5.916913e+06              23.820000            17.280000   \n",
       "75%        1.950000  6.577421e+06              29.562500            23.180000   \n",
       "max       90.470000  7.529655e+06              37.210000            36.210000   \n",
       "\n",
       "       Tower_bottom_ambient_temperature  \n",
       "count                      42592.000000  \n",
       "mean                          29.088985  \n",
       "std                            6.523025  \n",
       "min                            2.960000  \n",
       "25%                           25.087500  \n",
       "50%                           30.310000  \n",
       "75%                           33.890000  \n",
       "max                           44.830000  "
      ]
     },
     "execution_count": 2,
     "metadata": {},
     "output_type": "execute_result"
    }
   ],
   "source": [
    "df = pd.read_csv('wt.csv')\n",
    "\n",
    "# remove spaces in columns name\n",
    "df.columns = df.columns.str.replace(' ','_')\n",
    "\n",
    "# splitting two WT in different dataset using location of turbine\n",
    "grouped = df.groupby(df.unitlocation)\n",
    "wtg40 = grouped.get_group(\"WTG40\")\n",
    "\n",
    "# get failure times\n",
    "fault_time_wtg40 = wtg40.failure_time.unique()\n",
    "\n",
    "# get the failure status in dataset\n",
    "wtg40['total_runtime'] = [i*10 for i in range(1,len(wtg40)+1)]\n",
    "wtg40['is_fault'] = wtg40['total_runtime']< fault_time_wtg40.max()\n",
    "\n",
    "# remove some columns that are unnecessary\n",
    "df = wtg40.drop(['unitlocation', 'ttimestamplocal','total_runtime', 'failure_time'], axis=1)\n",
    "\n",
    "df['is_fault'] = df['is_fault'].astype('category')\n",
    "df['is_fault'] = df['is_fault'].cat.codes\n",
    "\n",
    "# final datasets for training\n",
    "y = df['is_fault']\n",
    "x= df.drop(['is_fault'],  axis=1)\n",
    "x.describe()"
   ]
  },
  {
   "cell_type": "code",
   "execution_count": 3,
   "metadata": {},
   "outputs": [
    {
     "name": "stdout",
     "output_type": "stream",
     "text": [
      "False\n"
     ]
    },
    {
     "data": {
      "text/plain": [
       "0        1\n",
       "1        1\n",
       "2        1\n",
       "3        1\n",
       "4        1\n",
       "        ..\n",
       "42587    0\n",
       "42588    0\n",
       "42589    0\n",
       "42590    0\n",
       "42591    0\n",
       "Name: is_fault, Length: 42592, dtype: int8"
      ]
     },
     "execution_count": 3,
     "metadata": {},
     "output_type": "execute_result"
    }
   ],
   "source": [
    "# check there is any null value present in dataset or not\n",
    "print(x.isnull().values.any())\n",
    "# 1 -> outlier  and 0-> normal\n",
    "y"
   ]
  },
  {
   "cell_type": "code",
   "execution_count": 4,
   "metadata": {},
   "outputs": [
    {
     "data": {
      "text/html": [
       "<div>\n",
       "<style scoped>\n",
       "    .dataframe tbody tr th:only-of-type {\n",
       "        vertical-align: middle;\n",
       "    }\n",
       "\n",
       "    .dataframe tbody tr th {\n",
       "        vertical-align: top;\n",
       "    }\n",
       "\n",
       "    .dataframe thead th {\n",
       "        text-align: right;\n",
       "    }\n",
       "</style>\n",
       "<table border=\"1\" class=\"dataframe\">\n",
       "  <thead>\n",
       "    <tr style=\"text-align: right;\">\n",
       "      <th></th>\n",
       "      <th>windspeed</th>\n",
       "      <th>power</th>\n",
       "      <th>wind_direction_Angle</th>\n",
       "      <th>rtr_rpm</th>\n",
       "      <th>pitch_Angle</th>\n",
       "      <th>generation</th>\n",
       "      <th>wheel_hub_temperature</th>\n",
       "      <th>ambient_Temperature</th>\n",
       "      <th>Tower_bottom_ambient_temperature</th>\n",
       "    </tr>\n",
       "  </thead>\n",
       "  <tbody>\n",
       "    <tr>\n",
       "      <th>0</th>\n",
       "      <td>-1.358224</td>\n",
       "      <td>-0.884118</td>\n",
       "      <td>-3.505606</td>\n",
       "      <td>-1.782974</td>\n",
       "      <td>1.942377</td>\n",
       "      <td>-2.264226</td>\n",
       "      <td>-1.514270</td>\n",
       "      <td>-1.397226</td>\n",
       "      <td>-1.485369</td>\n",
       "    </tr>\n",
       "    <tr>\n",
       "      <th>1</th>\n",
       "      <td>-1.401533</td>\n",
       "      <td>-0.884118</td>\n",
       "      <td>-3.505606</td>\n",
       "      <td>-1.785578</td>\n",
       "      <td>1.942377</td>\n",
       "      <td>-2.264226</td>\n",
       "      <td>-1.506850</td>\n",
       "      <td>-1.395087</td>\n",
       "      <td>-1.534427</td>\n",
       "    </tr>\n",
       "    <tr>\n",
       "      <th>2</th>\n",
       "      <td>-1.491762</td>\n",
       "      <td>-0.884118</td>\n",
       "      <td>-3.505606</td>\n",
       "      <td>-1.788182</td>\n",
       "      <td>1.942377</td>\n",
       "      <td>-2.264226</td>\n",
       "      <td>-1.467279</td>\n",
       "      <td>-1.399366</td>\n",
       "      <td>-1.494567</td>\n",
       "    </tr>\n",
       "    <tr>\n",
       "      <th>3</th>\n",
       "      <td>-1.527854</td>\n",
       "      <td>-0.884118</td>\n",
       "      <td>-3.505606</td>\n",
       "      <td>-1.788182</td>\n",
       "      <td>1.942377</td>\n",
       "      <td>-2.264226</td>\n",
       "      <td>-1.500667</td>\n",
       "      <td>-1.403645</td>\n",
       "      <td>-1.497633</td>\n",
       "    </tr>\n",
       "    <tr>\n",
       "      <th>4</th>\n",
       "      <td>-1.531463</td>\n",
       "      <td>-0.884118</td>\n",
       "      <td>-3.505606</td>\n",
       "      <td>-1.795994</td>\n",
       "      <td>1.942377</td>\n",
       "      <td>-2.264226</td>\n",
       "      <td>-1.504377</td>\n",
       "      <td>-1.392947</td>\n",
       "      <td>-1.517563</td>\n",
       "    </tr>\n",
       "  </tbody>\n",
       "</table>\n",
       "</div>"
      ],
      "text/plain": [
       "   windspeed     power  wind_direction_Angle   rtr_rpm  pitch_Angle  \\\n",
       "0  -1.358224 -0.884118             -3.505606 -1.782974     1.942377   \n",
       "1  -1.401533 -0.884118             -3.505606 -1.785578     1.942377   \n",
       "2  -1.491762 -0.884118             -3.505606 -1.788182     1.942377   \n",
       "3  -1.527854 -0.884118             -3.505606 -1.788182     1.942377   \n",
       "4  -1.531463 -0.884118             -3.505606 -1.795994     1.942377   \n",
       "\n",
       "   generation  wheel_hub_temperature  ambient_Temperature  \\\n",
       "0   -2.264226              -1.514270            -1.397226   \n",
       "1   -2.264226              -1.506850            -1.395087   \n",
       "2   -2.264226              -1.467279            -1.399366   \n",
       "3   -2.264226              -1.500667            -1.403645   \n",
       "4   -2.264226              -1.504377            -1.392947   \n",
       "\n",
       "   Tower_bottom_ambient_temperature  \n",
       "0                         -1.485369  \n",
       "1                         -1.534427  \n",
       "2                         -1.494567  \n",
       "3                         -1.497633  \n",
       "4                         -1.517563  "
      ]
     },
     "execution_count": 4,
     "metadata": {},
     "output_type": "execute_result"
    }
   ],
   "source": [
    "# Apply PCA to reduce dimensionality reduction\n",
    "fatures_name = x.columns.tolist()\n",
    "x_std = StandardScaler().fit_transform(x)\n",
    "x_std = pd.DataFrame(x_std,columns= fatures_name)\n",
    "x_std.head(5)"
   ]
  },
  {
   "cell_type": "markdown",
   "metadata": {},
   "source": [
    "How to select numbers of components?"
   ]
  },
  {
   "cell_type": "code",
   "execution_count": 7,
   "metadata": {},
   "outputs": [
    {
     "data": {
      "image/png": "[encoded data removed]",
      "text/plain": [
       "<Figure size 432x288 with 1 Axes>"
      ]
     },
     "metadata": {
      "needs_background": "light"
     },
     "output_type": "display_data"
    }
   ],
   "source": [
    "# https://www.mikulskibartosz.name/pca-how-to-choose-the-number-of-components/\n",
    "pca_ = PCA().fit(x_std)\n",
    "desired_variance = 0.90\n",
    "fig, ax = plt.subplots()\n",
    "yi = np.cumsum(pca_.explained_variance_ratio_)\n",
    "xi = np.arange(1, yi.shape[0]+1, step=1)\n",
    "plt.ylim(0.0,1.1)\n",
    "plt.plot(xi, yi, marker='o', linestyle='--', color='b')\n",
    "plt.xlabel('Number of Components')\n",
    "plt.xticks(np.arange(1, yi.shape[0]+2, step=1))\n",
    "plt.ylabel('Cumulative variance (%)', fontsize=18)\n",
    "plt.title('The number of components needed to explain variance')\n",
    "plt.axhline(y=desired_variance, color='r', linestyle='-')\n",
    "plt.text(1, desired_variance+ 0.05, str(desired_variance*100) +'% cut-off threshold', color='b', fontsize=16)\n",
    "ax.grid(axis='x')\n",
    "plt.show()"
   ]
  },
  {
   "cell_type": "code",
   "execution_count": 8,
   "metadata": {},
   "outputs": [
    {
     "data": {
      "text/plain": [
       "array([[-0.35104603,  2.97913512],\n",
       "       [-0.36204073,  3.01016619],\n",
       "       [-0.42436286,  2.99481883],\n",
       "       ...,\n",
       "       [ 4.44375194,  2.82710526],\n",
       "       [ 4.4187954 ,  2.82486931],\n",
       "       [ 4.39452195,  2.86047325]])"
      ]
     },
     "execution_count": 8,
     "metadata": {},
     "output_type": "execute_result"
    }
   ],
   "source": [
    "# from above figure to acheive 0.95 explained varience we need 5 components\n",
    "pca = PCA(n_components=2)\n",
    "X = pca.fit_transform(x_std)\n",
    "X"
   ]
  },
  {
   "cell_type": "code",
   "execution_count": 9,
   "metadata": {},
   "outputs": [
    {
     "data": {
      "text/plain": [
       "array([0.37528614, 0.32053537])"
      ]
     },
     "execution_count": 9,
     "metadata": {},
     "output_type": "execute_result"
    }
   ],
   "source": [
    "# variance ratio of each components\n",
    "pca.explained_variance_ratio_"
   ]
  },
  {
   "cell_type": "code",
   "execution_count": 11,
   "metadata": {},
   "outputs": [
    {
     "data": {
      "image/png": "[encoded data removed]",
      "text/plain": [
       "<Figure size 432x288 with 1 Axes>"
      ]
     },
     "metadata": {
      "needs_background": "light"
     },
     "output_type": "display_data"
    }
   ],
   "source": [
    "plt.scatter(X[:,0], X[:,1], color='green')\n",
    "plt.ylabel(\"PC1\")\n",
    "plt.xlabel(\"PC2\")\n",
    "plt.show()"
   ]
  },
  {
   "cell_type": "code",
   "execution_count": 12,
   "metadata": {},
   "outputs": [
    {
     "data": {
      "image/png": "[encoded data removed]",
      "text/plain": [
       "<Figure size 432x288 with 1 Axes>"
      ]
     },
     "metadata": {
      "needs_background": "light"
     },
     "output_type": "display_data"
    }
   ],
   "source": [
    "# https://stackoverflow.com/questions/50796024/feature-variable-importance-after-a-pca-analysis/50845697#50845697\n",
    "def myplot(score,coeff,labels=None):\n",
    "    xs = score[:,0]\n",
    "    ys = score[:,1]\n",
    "    n = coeff.shape[0]\n",
    "    scalex = 1.0/(xs.max() - xs.min())\n",
    "    scaley = 1.0/(ys.max() - ys.min())\n",
    "    plt.scatter(xs*scalex, ys*scaley)\n",
    "    for i in range(n):\n",
    "        plt.arrow(0, 0, coeff[i,0], coeff[i,1],color = 'r')\n",
    "        if labels is None:\n",
    "            plt.text(coeff[i,0]* 1.15, coeff[i,1] * 1.15, \"Var\"+str(i+1), color = 'r', ha = 'center', va = 'center')\n",
    "        else:\n",
    "            plt.text(coeff[i,0]* 1.5, coeff[i,1], labels[i], color = 'g', ha = 'center', va = 'center')\n",
    "plt.xlim(-1,1)\n",
    "plt.ylim(-1,1)\n",
    "plt.xlabel(\"PC{}\".format(1))\n",
    "plt.ylabel(\"PC{}\".format(2))\n",
    "plt.grid()\n",
    "myplot(X[:,0:2],np.transpose(pca.components_[0:2, :]),fatures_name)\n",
    "plt.show()"
   ]
  },
  {
   "cell_type": "code",
   "execution_count": 13,
   "metadata": {},
   "outputs": [
    {
     "data": {
      "text/plain": [
       "['rtr_rpm', 'Tower_bottom_ambient_temperature']"
      ]
     },
     "execution_count": 13,
     "metadata": {},
     "output_type": "execute_result"
    }
   ],
   "source": [
    "# https://stackoverflow.com/questions/50796024/feature-variable-importance-after-a-pca-analysis/50845697#50845697\n",
    "\n",
    "# number of components\n",
    "n_pcs= pca.components_.shape[0]\n",
    "\n",
    "most_important = [np.abs(pca.components_[i]).argmax() for i in range(n_pcs)]\n",
    "\n",
    "# get the names\n",
    "most_important_names = [fatures_name[most_important[i]] for i in range(n_pcs)]\n",
    "most_important_names"
   ]
  },
  {
   "cell_type": "code",
   "execution_count": 14,
   "metadata": {},
   "outputs": [],
   "source": [
    "# splitting testing and training set\n",
    "X_train =X[:35000]\n",
    "X_test = X[35000:42592]\n",
    "y_train = y[:35000]\n",
    "y_test = y[35000:42592]"
   ]
  },
  {
   "cell_type": "code",
   "execution_count": 15,
   "metadata": {},
   "outputs": [
    {
     "data": {
      "text/html": [
       "<style>#sk-container-id-1 {color: black;background-color: white;}#sk-container-id-1 pre{padding: 0;}#sk-container-id-1 div.sk-toggleable {background-color: white;}#sk-container-id-1 label.sk-toggleable__label {cursor: pointer;display: block;width: 100%;margin-bottom: 0;padding: 0.3em;box-sizing: border-box;text-align: center;}#sk-container-id-1 label.sk-toggleable__label-arrow:before {content: \"▸\";float: left;margin-right: 0.25em;color: #696969;}#sk-container-id-1 label.sk-toggleable__label-arrow:hover:before {color: black;}#sk-container-id-1 div.sk-estimator:hover label.sk-toggleable__label-arrow:before {color: black;}#sk-container-id-1 div.sk-toggleable__content {max-height: 0;max-width: 0;overflow: hidden;text-align: left;background-color: #f0f8ff;}#sk-container-id-1 div.sk-toggleable__content pre {margin: 0.2em;color: black;border-radius: 0.25em;background-color: #f0f8ff;}#sk-container-id-1 input.sk-toggleable__control:checked~div.sk-toggleable__content {max-height: 200px;max-width: 100%;overflow: auto;}#sk-container-id-1 input.sk-toggleable__control:checked~label.sk-toggleable__label-arrow:before {content: \"▾\";}#sk-container-id-1 div.sk-estimator input.sk-toggleable__control:checked~label.sk-toggleable__label {background-color: #d4ebff;}#sk-container-id-1 div.sk-label input.sk-toggleable__control:checked~label.sk-toggleable__label {background-color: #d4ebff;}#sk-container-id-1 input.sk-hidden--visually {border: 0;clip: rect(1px 1px 1px 1px);clip: rect(1px, 1px, 1px, 1px);height: 1px;margin: -1px;overflow: hidden;padding: 0;position: absolute;width: 1px;}#sk-container-id-1 div.sk-estimator {font-family: monospace;background-color: #f0f8ff;border: 1px dotted black;border-radius: 0.25em;box-sizing: border-box;margin-bottom: 0.5em;}#sk-container-id-1 div.sk-estimator:hover {background-color: #d4ebff;}#sk-container-id-1 div.sk-parallel-item::after {content: \"\";width: 100%;border-bottom: 1px solid gray;flex-grow: 1;}#sk-container-id-1 div.sk-label:hover label.sk-toggleable__label {background-color: #d4ebff;}#sk-container-id-1 div.sk-serial::before {content: \"\";position: absolute;border-left: 1px solid gray;box-sizing: border-box;top: 0;bottom: 0;left: 50%;z-index: 0;}#sk-container-id-1 div.sk-serial {display: flex;flex-direction: column;align-items: center;background-color: white;padding-right: 0.2em;padding-left: 0.2em;position: relative;}#sk-container-id-1 div.sk-item {position: relative;z-index: 1;}#sk-container-id-1 div.sk-parallel {display: flex;align-items: stretch;justify-content: center;background-color: white;position: relative;}#sk-container-id-1 div.sk-item::before, #sk-container-id-1 div.sk-parallel-item::before {content: \"\";position: absolute;border-left: 1px solid gray;box-sizing: border-box;top: 0;bottom: 0;left: 50%;z-index: -1;}#sk-container-id-1 div.sk-parallel-item {display: flex;flex-direction: column;z-index: 1;position: relative;background-color: white;}#sk-container-id-1 div.sk-parallel-item:first-child::after {align-self: flex-end;width: 50%;}#sk-container-id-1 div.sk-parallel-item:last-child::after {align-self: flex-start;width: 50%;}#sk-container-id-1 div.sk-parallel-item:only-child::after {width: 0;}#sk-container-id-1 div.sk-dashed-wrapped {border: 1px dashed gray;margin: 0 0.4em 0.5em 0.4em;box-sizing: border-box;padding-bottom: 0.4em;background-color: white;}#sk-container-id-1 div.sk-label label {font-family: monospace;font-weight: bold;display: inline-block;line-height: 1.2em;}#sk-container-id-1 div.sk-label-container {text-align: center;}#sk-container-id-1 div.sk-container {/* jupyter's `normalize.less` sets `[hidden] { display: none; }` but bootstrap.min.css set `[hidden] { display: none !important; }` so we also need the `!important` here to be able to override the default hidden behavior on the sphinx rendered scikit-learn.org. See: https://github.com/scikit-learn/scikit-learn/issues/21755 */display: inline-block !important;position: relative;}#sk-container-id-1 div.sk-text-repr-fallback {display: none;}</style><div id=\"sk-container-id-1\" class=\"sk-top-container\"><div class=\"sk-text-repr-fallback\"><pre>OneClassSVM(gamma=0.35, nu=0.25)</pre><b>In a Jupyter environment, please rerun this cell to show the HTML representation or trust the notebook. <br />On GitHub, the HTML representation is unable to render, please try loading this page with nbviewer.org.</b></div><div class=\"sk-container\" hidden><div class=\"sk-item\"><div class=\"sk-estimator sk-toggleable\"><input class=\"sk-toggleable__control sk-hidden--visually\" id=\"sk-estimator-id-1\" type=\"checkbox\" checked><label for=\"sk-estimator-id-1\" class=\"sk-toggleable__label sk-toggleable__label-arrow\">OneClassSVM</label><div class=\"sk-toggleable__content\"><pre>OneClassSVM(gamma=0.35, nu=0.25)</pre></div></div></div></div></div>"
      ],
      "text/plain": [
       "OneClassSVM(gamma=0.35, nu=0.25)"
      ]
     },
     "execution_count": 15,
     "metadata": {},
     "output_type": "execute_result"
    }
   ],
   "source": [
    "# fit the model for hyper parameter tunning\n",
    "clf = OneClassSVM(nu=0.25, gamma=0.35)\n",
    "clf.fit(X_train)"
   ]
  },
  {
   "cell_type": "code",
   "execution_count": 16,
   "metadata": {},
   "outputs": [],
   "source": [
    "# Generate some abnormal novel observations\n",
    "X_outliers = np.random.uniform(low=-3, high=3, size=(10, 2))\n",
    "\n",
    "y_pred_train = clf.predict(X_train)\n",
    "y_pred_test = clf.predict(X_test)\n",
    "y_pred_outliers = clf.predict(X_outliers)\n",
    "\n",
    "# error \n",
    "n_error_train = y_pred_train[y_pred_train == -1].size\n",
    "n_error_test = y_pred_test[y_pred_test == -1].size\n",
    "n_error_outliers = y_pred_outliers[y_pred_outliers == 1].size"
   ]
  },
  {
   "cell_type": "code",
   "execution_count": 17,
   "metadata": {},
   "outputs": [
    {
     "data": {
      "image/png": "[encoded data removed]",
      "text/plain": [
       "<Figure size 432x288 with 1 Axes>"
      ]
     },
     "metadata": {
      "needs_background": "light"
     },
     "output_type": "display_data"
    }
   ],
   "source": [
    "# plot the result in two dimensional space\n",
    "# this part of code will not work if you dont use PCA\n",
    "xx, yy = np.meshgrid(np.linspace(-2, 6, 500), np.linspace(-2, 4, 500))\n",
    "plt.figure(1)\n",
    "Z = clf.decision_function(np.c_[xx.ravel(), yy.ravel()])\n",
    "Z = Z.reshape(xx.shape)\n",
    "legend1 = {}\n",
    "legend1[\"boundry\"] = plt.contour(xx, yy, Z, levels=[0], linewidths=2, colors='green')\n",
    "legend1_values_list = list(legend1.values())\n",
    "legend1_keys_list = list(legend1.keys())\n",
    "plt.figure(1)  \n",
    "plt.title(\"Fault Detection in Wind Turbine\")\n",
    "plt.scatter(X_train[:, 0], X_train[:, 1], color='blue')\n",
    "plt.scatter(X_test[:, 0], X_test[:, 1], color='black')\n",
    "plt.scatter(X_outliers[:, 0], X_outliers[:, 1], color='red')\n",
    "#plt.xlim((xx.min(), xx.max()))\n",
    "#plt.ylim((yy.min(), yy.max()))\n",
    "plt.legend([legend1_values_list[0].collections[0]],     \n",
    "           labels= [\"train\",\" test\",'outlier'],\n",
    "           loc=\"best\",\n",
    "           prop=matplotlib.font_manager.FontProperties(size=14))\n",
    "plt.ylabel(\"PC1\")\n",
    "plt.xlabel(\"PC2\")\n",
    "plt.show()"
   ]
  },
  {
   "cell_type": "code",
   "execution_count": 19,
   "metadata": {},
   "outputs": [
    {
     "data": {
      "text/plain": [
       "{'cache_size': 200,\n",
       " 'coef0': 0.0,\n",
       " 'degree': 3,\n",
       " 'gamma': 0.35,\n",
       " 'kernel': 'rbf',\n",
       " 'max_iter': -1,\n",
       " 'nu': 0.25,\n",
       " 'shrinking': True,\n",
       " 'tol': 0.001,\n",
       " 'verbose': False}"
      ]
     },
     "execution_count": 19,
     "metadata": {},
     "output_type": "execute_result"
    }
   ],
   "source": [
    "clf.get_params(deep=True)"
   ]
  },
  {
   "cell_type": "code",
   "execution_count": null,
   "metadata": {},
   "outputs": [],
   "source": []
  }
 ],
 "metadata": {
  "kernelspec": {
   "display_name": "Python 3.10.7 64-bit",
   "language": "python",
   "name": "python3"
  },
  "language_info": {
   "codemirror_mode": {
    "name": "ipython",
    "version": 3
   },
   "file_extension": ".py",
   "mimetype": "text/x-python",
   "name": "python",
   "nbconvert_exporter": "python",
   "pygments_lexer": "ipython3",
   "version": "3.10.7"
  },
  "orig_nbformat": 4,
  "vscode": {
   "interpreter": {
    "hash": "916dbcbb3f70747c44a77c7bcd40155683ae19c65e1c03b4aa3499c5328201f1"
   }
  }
 },
 "nbformat": 4,
 "nbformat_minor": 2
}
