{
 "cells": [
  {
   "cell_type": "code",
   "execution_count": 2,
   "metadata": {},
   "outputs": [],
   "source": [
    "import pandas as pd\n",
    "df = pd.read_csv('wt.csv')"
   ]
  },
  {
   "cell_type": "code",
   "execution_count": 3,
   "metadata": {},
   "outputs": [
    {
     "data": {
      "text/html": [
       "<div>\n",
       "<style scoped>\n",
       "    .dataframe tbody tr th:only-of-type {\n",
       "        vertical-align: middle;\n",
       "    }\n",
       "\n",
       "    .dataframe tbody tr th {\n",
       "        vertical-align: top;\n",
       "    }\n",
       "\n",
       "    .dataframe thead th {\n",
       "        text-align: right;\n",
       "    }\n",
       "</style>\n",
       "<table border=\"1\" class=\"dataframe\">\n",
       "  <thead>\n",
       "    <tr style=\"text-align: right;\">\n",
       "      <th></th>\n",
       "      <th>unitlocation</th>\n",
       "      <th>ttimestamplocal</th>\n",
       "      <th>windspeed</th>\n",
       "      <th>power</th>\n",
       "      <th>wind direction Angle</th>\n",
       "      <th>rtr_rpm</th>\n",
       "      <th>pitch Angle</th>\n",
       "      <th>generation</th>\n",
       "      <th>wheel hub temperature</th>\n",
       "      <th>ambient Temperature</th>\n",
       "      <th>Tower bottom ambient temperature</th>\n",
       "      <th>failure time</th>\n",
       "    </tr>\n",
       "  </thead>\n",
       "  <tbody>\n",
       "    <tr>\n",
       "      <th>0</th>\n",
       "      <td>WTG40</td>\n",
       "      <td>\\t2020-03-01 00:00:00\\t</td>\n",
       "      <td>0.93</td>\n",
       "      <td>0.0</td>\n",
       "      <td>0.0</td>\n",
       "      <td>0.38</td>\n",
       "      <td>49.99</td>\n",
       "      <td>2872434</td>\n",
       "      <td>10.54</td>\n",
       "      <td>2.78</td>\n",
       "      <td>19.40</td>\n",
       "      <td>11.12</td>\n",
       "    </tr>\n",
       "    <tr>\n",
       "      <th>1</th>\n",
       "      <td>WTG40</td>\n",
       "      <td>\\t2020-03-01 00:10:00\\t</td>\n",
       "      <td>0.81</td>\n",
       "      <td>0.0</td>\n",
       "      <td>0.0</td>\n",
       "      <td>0.37</td>\n",
       "      <td>49.99</td>\n",
       "      <td>2872434</td>\n",
       "      <td>10.60</td>\n",
       "      <td>2.80</td>\n",
       "      <td>19.08</td>\n",
       "      <td>11.12</td>\n",
       "    </tr>\n",
       "    <tr>\n",
       "      <th>2</th>\n",
       "      <td>WTG40</td>\n",
       "      <td>\\t2020-03-01 00:20:00\\t</td>\n",
       "      <td>0.56</td>\n",
       "      <td>0.0</td>\n",
       "      <td>0.0</td>\n",
       "      <td>0.36</td>\n",
       "      <td>49.99</td>\n",
       "      <td>2872434</td>\n",
       "      <td>10.92</td>\n",
       "      <td>2.76</td>\n",
       "      <td>19.34</td>\n",
       "      <td>11.12</td>\n",
       "    </tr>\n",
       "    <tr>\n",
       "      <th>3</th>\n",
       "      <td>WTG40</td>\n",
       "      <td>\\t2020-03-01 00:30:00\\t</td>\n",
       "      <td>0.46</td>\n",
       "      <td>0.0</td>\n",
       "      <td>0.0</td>\n",
       "      <td>0.36</td>\n",
       "      <td>49.99</td>\n",
       "      <td>2872434</td>\n",
       "      <td>10.65</td>\n",
       "      <td>2.72</td>\n",
       "      <td>19.32</td>\n",
       "      <td>11.12</td>\n",
       "    </tr>\n",
       "    <tr>\n",
       "      <th>4</th>\n",
       "      <td>WTG40</td>\n",
       "      <td>\\t2020-03-01 00:40:00\\t</td>\n",
       "      <td>0.45</td>\n",
       "      <td>0.0</td>\n",
       "      <td>0.0</td>\n",
       "      <td>0.33</td>\n",
       "      <td>49.99</td>\n",
       "      <td>2872434</td>\n",
       "      <td>10.62</td>\n",
       "      <td>2.82</td>\n",
       "      <td>19.19</td>\n",
       "      <td>11.12</td>\n",
       "    </tr>\n",
       "  </tbody>\n",
       "</table>\n",
       "</div>"
      ],
      "text/plain": [
       "  unitlocation          ttimestamplocal  windspeed  power  \\\n",
       "0        WTG40  \\t2020-03-01 00:00:00\\t       0.93    0.0   \n",
       "1        WTG40  \\t2020-03-01 00:10:00\\t       0.81    0.0   \n",
       "2        WTG40  \\t2020-03-01 00:20:00\\t       0.56    0.0   \n",
       "3        WTG40  \\t2020-03-01 00:30:00\\t       0.46    0.0   \n",
       "4        WTG40  \\t2020-03-01 00:40:00\\t       0.45    0.0   \n",
       "\n",
       "   wind direction Angle  rtr_rpm  pitch Angle  generation  \\\n",
       "0                   0.0     0.38        49.99     2872434   \n",
       "1                   0.0     0.37        49.99     2872434   \n",
       "2                   0.0     0.36        49.99     2872434   \n",
       "3                   0.0     0.36        49.99     2872434   \n",
       "4                   0.0     0.33        49.99     2872434   \n",
       "\n",
       "   wheel hub temperature  ambient Temperature  \\\n",
       "0                  10.54                 2.78   \n",
       "1                  10.60                 2.80   \n",
       "2                  10.92                 2.76   \n",
       "3                  10.65                 2.72   \n",
       "4                  10.62                 2.82   \n",
       "\n",
       "   Tower bottom ambient temperature  failure time  \n",
       "0                             19.40         11.12  \n",
       "1                             19.08         11.12  \n",
       "2                             19.34         11.12  \n",
       "3                             19.32         11.12  \n",
       "4                             19.19         11.12  "
      ]
     },
     "execution_count": 3,
     "metadata": {},
     "output_type": "execute_result"
    }
   ],
   "source": [
    "df.head()"
   ]
  },
  {
   "cell_type": "code",
   "execution_count": 4,
   "metadata": {},
   "outputs": [
    {
     "name": "stderr",
     "output_type": "stream",
     "text": [
      "/tmp/ipykernel_34708/3574493064.py:12: SettingWithCopyWarning: \n",
      "A value is trying to be set on a copy of a slice from a DataFrame.\n",
      "Try using .loc[row_indexer,col_indexer] = value instead\n",
      "\n",
      "See the caveats in the documentation: https://pandas.pydata.org/pandas-docs/stable/user_guide/indexing.html#returning-a-view-versus-a-copy\n",
      "  wtg40['total_runtime'] = [i*10 for i in range(1,len(wtg40)+1)]\n",
      "/tmp/ipykernel_34708/3574493064.py:13: SettingWithCopyWarning: \n",
      "A value is trying to be set on a copy of a slice from a DataFrame.\n",
      "Try using .loc[row_indexer,col_indexer] = value instead\n",
      "\n",
      "See the caveats in the documentation: https://pandas.pydata.org/pandas-docs/stable/user_guide/indexing.html#returning-a-view-versus-a-copy\n",
      "  wtg40['is_fault'] = wtg40['total_runtime']< fault_time_wtg40.max()\n"
     ]
    },
    {
     "data": {
      "text/html": [
       "<div>\n",
       "<style scoped>\n",
       "    .dataframe tbody tr th:only-of-type {\n",
       "        vertical-align: middle;\n",
       "    }\n",
       "\n",
       "    .dataframe tbody tr th {\n",
       "        vertical-align: top;\n",
       "    }\n",
       "\n",
       "    .dataframe thead th {\n",
       "        text-align: right;\n",
       "    }\n",
       "</style>\n",
       "<table border=\"1\" class=\"dataframe\">\n",
       "  <thead>\n",
       "    <tr style=\"text-align: right;\">\n",
       "      <th></th>\n",
       "      <th>windspeed</th>\n",
       "      <th>power</th>\n",
       "      <th>wind_direction_Angle</th>\n",
       "      <th>rtr_rpm</th>\n",
       "      <th>pitch_Angle</th>\n",
       "      <th>generation</th>\n",
       "      <th>wheel_hub_temperature</th>\n",
       "      <th>ambient_Temperature</th>\n",
       "      <th>Tower_bottom_ambient_temperature</th>\n",
       "    </tr>\n",
       "  </thead>\n",
       "  <tbody>\n",
       "    <tr>\n",
       "      <th>count</th>\n",
       "      <td>42592.000000</td>\n",
       "      <td>42592.000000</td>\n",
       "      <td>42592.000000</td>\n",
       "      <td>42592.000000</td>\n",
       "      <td>42592.000000</td>\n",
       "      <td>4.259200e+04</td>\n",
       "      <td>42592.000000</td>\n",
       "      <td>42592.000000</td>\n",
       "      <td>42592.000000</td>\n",
       "    </tr>\n",
       "    <tr>\n",
       "      <th>mean</th>\n",
       "      <td>4.693273</td>\n",
       "      <td>653.797555</td>\n",
       "      <td>171.081463</td>\n",
       "      <td>7.227109</td>\n",
       "      <td>8.868844</td>\n",
       "      <td>5.665854e+06</td>\n",
       "      <td>22.785580</td>\n",
       "      <td>15.840264</td>\n",
       "      <td>29.088985</td>\n",
       "    </tr>\n",
       "    <tr>\n",
       "      <th>std</th>\n",
       "      <td>2.770764</td>\n",
       "      <td>739.499557</td>\n",
       "      <td>48.802821</td>\n",
       "      <td>3.840320</td>\n",
       "      <td>21.170777</td>\n",
       "      <td>1.233734e+06</td>\n",
       "      <td>8.086884</td>\n",
       "      <td>9.347388</td>\n",
       "      <td>6.523025</td>\n",
       "    </tr>\n",
       "    <tr>\n",
       "      <th>min</th>\n",
       "      <td>0.020000</td>\n",
       "      <td>-29.840000</td>\n",
       "      <td>0.000000</td>\n",
       "      <td>0.210000</td>\n",
       "      <td>-0.580000</td>\n",
       "      <td>2.872434e+06</td>\n",
       "      <td>-4.830000</td>\n",
       "      <td>-13.060000</td>\n",
       "      <td>2.960000</td>\n",
       "    </tr>\n",
       "    <tr>\n",
       "      <th>25%</th>\n",
       "      <td>2.680000</td>\n",
       "      <td>60.047500</td>\n",
       "      <td>175.170000</td>\n",
       "      <td>5.000000</td>\n",
       "      <td>-0.520000</td>\n",
       "      <td>4.843144e+06</td>\n",
       "      <td>17.590000</td>\n",
       "      <td>9.950000</td>\n",
       "      <td>25.087500</td>\n",
       "    </tr>\n",
       "    <tr>\n",
       "      <th>50%</th>\n",
       "      <td>4.300000</td>\n",
       "      <td>323.215000</td>\n",
       "      <td>180.520000</td>\n",
       "      <td>7.120000</td>\n",
       "      <td>-0.500000</td>\n",
       "      <td>5.916913e+06</td>\n",
       "      <td>23.820000</td>\n",
       "      <td>17.280000</td>\n",
       "      <td>30.310000</td>\n",
       "    </tr>\n",
       "    <tr>\n",
       "      <th>75%</th>\n",
       "      <td>6.372500</td>\n",
       "      <td>1056.462500</td>\n",
       "      <td>185.160000</td>\n",
       "      <td>10.540000</td>\n",
       "      <td>1.950000</td>\n",
       "      <td>6.577421e+06</td>\n",
       "      <td>29.562500</td>\n",
       "      <td>23.180000</td>\n",
       "      <td>33.890000</td>\n",
       "    </tr>\n",
       "    <tr>\n",
       "      <th>max</th>\n",
       "      <td>19.210000</td>\n",
       "      <td>2224.870000</td>\n",
       "      <td>355.970000</td>\n",
       "      <td>12.480000</td>\n",
       "      <td>90.470000</td>\n",
       "      <td>7.529655e+06</td>\n",
       "      <td>37.210000</td>\n",
       "      <td>36.210000</td>\n",
       "      <td>44.830000</td>\n",
       "    </tr>\n",
       "  </tbody>\n",
       "</table>\n",
       "</div>"
      ],
      "text/plain": [
       "          windspeed         power  wind_direction_Angle       rtr_rpm  \\\n",
       "count  42592.000000  42592.000000          42592.000000  42592.000000   \n",
       "mean       4.693273    653.797555            171.081463      7.227109   \n",
       "std        2.770764    739.499557             48.802821      3.840320   \n",
       "min        0.020000    -29.840000              0.000000      0.210000   \n",
       "25%        2.680000     60.047500            175.170000      5.000000   \n",
       "50%        4.300000    323.215000            180.520000      7.120000   \n",
       "75%        6.372500   1056.462500            185.160000     10.540000   \n",
       "max       19.210000   2224.870000            355.970000     12.480000   \n",
       "\n",
       "        pitch_Angle    generation  wheel_hub_temperature  ambient_Temperature  \\\n",
       "count  42592.000000  4.259200e+04           42592.000000         42592.000000   \n",
       "mean       8.868844  5.665854e+06              22.785580            15.840264   \n",
       "std       21.170777  1.233734e+06               8.086884             9.347388   \n",
       "min       -0.580000  2.872434e+06              -4.830000           -13.060000   \n",
       "25%       -0.520000  4.843144e+06              17.590000             9.950000   \n",
       "50%       -0.500000  5.916913e+06              23.820000            17.280000   \n",
       "75%        1.950000  6.577421e+06              29.562500            23.180000   \n",
       "max       90.470000  7.529655e+06              37.210000            36.210000   \n",
       "\n",
       "       Tower_bottom_ambient_temperature  \n",
       "count                      42592.000000  \n",
       "mean                          29.088985  \n",
       "std                            6.523025  \n",
       "min                            2.960000  \n",
       "25%                           25.087500  \n",
       "50%                           30.310000  \n",
       "75%                           33.890000  \n",
       "max                           44.830000  "
      ]
     },
     "execution_count": 4,
     "metadata": {},
     "output_type": "execute_result"
    }
   ],
   "source": [
    "# remove spaces in columns name\n",
    "df.columns = df.columns.str.replace(' ','_')\n",
    "\n",
    "# splitting two WT in different dataset using location of turbine\n",
    "grouped = df.groupby(df.unitlocation)\n",
    "wtg40 = grouped.get_group(\"WTG40\")\n",
    "\n",
    "# get failure times\n",
    "fault_time_wtg40 = wtg40.failure_time.unique()\n",
    "\n",
    "# get the failure status in dataset\n",
    "wtg40['total_runtime'] = [i*10 for i in range(1,len(wtg40)+1)]\n",
    "wtg40['is_fault'] = wtg40['total_runtime']< fault_time_wtg40.max()\n",
    "\n",
    "# remove some columns that are unnecessary\n",
    "df = wtg40.drop(['unitlocation', 'ttimestamplocal','total_runtime', 'failure_time'], axis=1)\n",
    "\n",
    "df['is_fault'] = df['is_fault'].astype('category')\n",
    "df['is_fault'] = df['is_fault'].cat.codes\n",
    "\n",
    "# final datasets for training\n",
    "y = df['is_fault']\n",
    "x= df.drop(['is_fault'],  axis=1)\n",
    "x.describe()"
   ]
  },
  {
   "cell_type": "code",
   "execution_count": 5,
   "metadata": {},
   "outputs": [
    {
     "name": "stdout",
     "output_type": "stream",
     "text": [
      "False\n"
     ]
    },
    {
     "data": {
      "text/plain": [
       "0        1\n",
       "1        1\n",
       "2        1\n",
       "3        1\n",
       "4        1\n",
       "        ..\n",
       "42587    0\n",
       "42588    0\n",
       "42589    0\n",
       "42590    0\n",
       "42591    0\n",
       "Name: is_fault, Length: 42592, dtype: int8"
      ]
     },
     "execution_count": 5,
     "metadata": {},
     "output_type": "execute_result"
    }
   ],
   "source": [
    "# check there is any null value present in dataset or not\n",
    "print(x.isnull().values.any())\n",
    "# 1 -> outlier  and 0-> normal\n",
    "y"
   ]
  },
  {
   "cell_type": "code",
   "execution_count": 23,
   "metadata": {},
   "outputs": [
    {
     "data": {
      "text/plain": [
       "0    42586\n",
       "1        6\n",
       "Name: is_fault, dtype: int64"
      ]
     },
     "execution_count": 23,
     "metadata": {},
     "output_type": "execute_result"
    }
   ],
   "source": [
    "y.value_counts()"
   ]
  },
  {
   "cell_type": "code",
   "execution_count": 18,
   "metadata": {},
   "outputs": [],
   "source": [
    "from xgboost import XGBClassifier\n",
    "from sklearn.model_selection import train_test_split\n",
    "seed = 7\n",
    "test_size = 0.33\n",
    "x_train,X_test,y_train,Y_test = train_test_split(x,y,test_size=test_size,random_state=seed)"
   ]
  },
  {
   "cell_type": "code",
   "execution_count": 20,
   "metadata": {},
   "outputs": [
    {
     "name": "stderr",
     "output_type": "stream",
     "text": [
      "/usr/local/lib/python3.10/dist-packages/xgboost/sklearn.py:835: UserWarning: `early_stopping_rounds` in `fit` method is deprecated for better compatibility with scikit-learn, use `early_stopping_rounds` in constructor or`set_params` instead.\n",
      "  warnings.warn(\n"
     ]
    },
    {
     "name": "stdout",
     "output_type": "stream",
     "text": [
      "[0]\tvalidation_0-error:0.00000\tvalidation_0-logloss:0.43756\tvalidation_1-error:0.00007\tvalidation_1-logloss:0.43755\n",
      "[1]\tvalidation_0-error:0.00000\tvalidation_0-logloss:0.29638\tvalidation_1-error:0.00007\tvalidation_1-logloss:0.29638\n",
      "[2]\tvalidation_0-error:0.00000\tvalidation_0-logloss:0.20741\tvalidation_1-error:0.00007\tvalidation_1-logloss:0.20743\n",
      "[3]\tvalidation_0-error:0.00000\tvalidation_0-logloss:0.14788\tvalidation_1-error:0.00007\tvalidation_1-logloss:0.14792\n",
      "[4]\tvalidation_0-error:0.00000\tvalidation_0-logloss:0.10668\tvalidation_1-error:0.00007\tvalidation_1-logloss:0.10674\n",
      "[5]\tvalidation_0-error:0.00000\tvalidation_0-logloss:0.07757\tvalidation_1-error:0.00007\tvalidation_1-logloss:0.07764\n",
      "[6]\tvalidation_0-error:0.00000\tvalidation_0-logloss:0.05671\tvalidation_1-error:0.00007\tvalidation_1-logloss:0.05679\n",
      "[7]\tvalidation_0-error:0.00000\tvalidation_0-logloss:0.04163\tvalidation_1-error:0.00007\tvalidation_1-logloss:0.04171\n",
      "[8]\tvalidation_0-error:0.00000\tvalidation_0-logloss:0.03064\tvalidation_1-error:0.00007\tvalidation_1-logloss:0.03072\n",
      "[9]\tvalidation_0-error:0.00000\tvalidation_0-logloss:0.02261\tvalidation_1-error:0.00007\tvalidation_1-logloss:0.02268\n",
      "[10]\tvalidation_0-error:0.00000\tvalidation_0-logloss:0.01671\tvalidation_1-error:0.00007\tvalidation_1-logloss:0.01678\n",
      "[11]\tvalidation_0-error:0.00000\tvalidation_0-logloss:0.01237\tvalidation_1-error:0.00007\tvalidation_1-logloss:0.01244\n",
      "[12]\tvalidation_0-error:0.00000\tvalidation_0-logloss:0.00918\tvalidation_1-error:0.00007\tvalidation_1-logloss:0.00924\n",
      "[13]\tvalidation_0-error:0.00000\tvalidation_0-logloss:0.00682\tvalidation_1-error:0.00007\tvalidation_1-logloss:0.00688\n",
      "[14]\tvalidation_0-error:0.00000\tvalidation_0-logloss:0.00507\tvalidation_1-error:0.00007\tvalidation_1-logloss:0.00513\n",
      "[15]\tvalidation_0-error:0.00000\tvalidation_0-logloss:0.00378\tvalidation_1-error:0.00007\tvalidation_1-logloss:0.00384\n",
      "[16]\tvalidation_0-error:0.00000\tvalidation_0-logloss:0.00283\tvalidation_1-error:0.00007\tvalidation_1-logloss:0.00288\n",
      "[17]\tvalidation_0-error:0.00000\tvalidation_0-logloss:0.00212\tvalidation_1-error:0.00007\tvalidation_1-logloss:0.00218\n",
      "[18]\tvalidation_0-error:0.00000\tvalidation_0-logloss:0.00160\tvalidation_1-error:0.00007\tvalidation_1-logloss:0.00165\n",
      "[19]\tvalidation_0-error:0.00000\tvalidation_0-logloss:0.00121\tvalidation_1-error:0.00007\tvalidation_1-logloss:0.00127\n",
      "[20]\tvalidation_0-error:0.00000\tvalidation_0-logloss:0.00093\tvalidation_1-error:0.00007\tvalidation_1-logloss:0.00098\n",
      "[21]\tvalidation_0-error:0.00000\tvalidation_0-logloss:0.00071\tvalidation_1-error:0.00007\tvalidation_1-logloss:0.00077\n",
      "[22]\tvalidation_0-error:0.00000\tvalidation_0-logloss:0.00056\tvalidation_1-error:0.00007\tvalidation_1-logloss:0.00061\n",
      "[23]\tvalidation_0-error:0.00000\tvalidation_0-logloss:0.00044\tvalidation_1-error:0.00007\tvalidation_1-logloss:0.00049\n",
      "[24]\tvalidation_0-error:0.00000\tvalidation_0-logloss:0.00035\tvalidation_1-error:0.00007\tvalidation_1-logloss:0.00039\n",
      "[25]\tvalidation_0-error:0.00000\tvalidation_0-logloss:0.00029\tvalidation_1-error:0.00007\tvalidation_1-logloss:0.00033\n",
      "[26]\tvalidation_0-error:0.00000\tvalidation_0-logloss:0.00024\tvalidation_1-error:0.00007\tvalidation_1-logloss:0.00027\n",
      "[27]\tvalidation_0-error:0.00000\tvalidation_0-logloss:0.00020\tvalidation_1-error:0.00007\tvalidation_1-logloss:0.00023\n",
      "[28]\tvalidation_0-error:0.00000\tvalidation_0-logloss:0.00017\tvalidation_1-error:0.00007\tvalidation_1-logloss:0.00020\n",
      "[29]\tvalidation_0-error:0.00000\tvalidation_0-logloss:0.00015\tvalidation_1-error:0.00007\tvalidation_1-logloss:0.00018\n",
      "[30]\tvalidation_0-error:0.00000\tvalidation_0-logloss:0.00013\tvalidation_1-error:0.00007\tvalidation_1-logloss:0.00015\n",
      "[31]\tvalidation_0-error:0.00000\tvalidation_0-logloss:0.00012\tvalidation_1-error:0.00007\tvalidation_1-logloss:0.00014\n",
      "[32]\tvalidation_0-error:0.00000\tvalidation_0-logloss:0.00010\tvalidation_1-error:0.00007\tvalidation_1-logloss:0.00012\n",
      "[33]\tvalidation_0-error:0.00000\tvalidation_0-logloss:0.00010\tvalidation_1-error:0.00007\tvalidation_1-logloss:0.00012\n",
      "[34]\tvalidation_0-error:0.00000\tvalidation_0-logloss:0.00009\tvalidation_1-error:0.00007\tvalidation_1-logloss:0.00011\n",
      "[35]\tvalidation_0-error:0.00000\tvalidation_0-logloss:0.00008\tvalidation_1-error:0.00007\tvalidation_1-logloss:0.00010\n",
      "[36]\tvalidation_0-error:0.00000\tvalidation_0-logloss:0.00008\tvalidation_1-error:0.00007\tvalidation_1-logloss:0.00010\n",
      "[37]\tvalidation_0-error:0.00000\tvalidation_0-logloss:0.00008\tvalidation_1-error:0.00007\tvalidation_1-logloss:0.00009\n",
      "[38]\tvalidation_0-error:0.00000\tvalidation_0-logloss:0.00008\tvalidation_1-error:0.00007\tvalidation_1-logloss:0.00009\n",
      "[39]\tvalidation_0-error:0.00000\tvalidation_0-logloss:0.00008\tvalidation_1-error:0.00007\tvalidation_1-logloss:0.00009\n",
      "[40]\tvalidation_0-error:0.00000\tvalidation_0-logloss:0.00008\tvalidation_1-error:0.00007\tvalidation_1-logloss:0.00009\n",
      "[41]\tvalidation_0-error:0.00000\tvalidation_0-logloss:0.00008\tvalidation_1-error:0.00007\tvalidation_1-logloss:0.00008\n",
      "[42]\tvalidation_0-error:0.00000\tvalidation_0-logloss:0.00008\tvalidation_1-error:0.00007\tvalidation_1-logloss:0.00008\n",
      "[43]\tvalidation_0-error:0.00000\tvalidation_0-logloss:0.00008\tvalidation_1-error:0.00007\tvalidation_1-logloss:0.00008\n",
      "[44]\tvalidation_0-error:0.00000\tvalidation_0-logloss:0.00008\tvalidation_1-error:0.00007\tvalidation_1-logloss:0.00008\n",
      "[45]\tvalidation_0-error:0.00000\tvalidation_0-logloss:0.00008\tvalidation_1-error:0.00007\tvalidation_1-logloss:0.00008\n",
      "[46]\tvalidation_0-error:0.00000\tvalidation_0-logloss:0.00008\tvalidation_1-error:0.00007\tvalidation_1-logloss:0.00008\n",
      "[47]\tvalidation_0-error:0.00000\tvalidation_0-logloss:0.00008\tvalidation_1-error:0.00007\tvalidation_1-logloss:0.00008\n",
      "[48]\tvalidation_0-error:0.00000\tvalidation_0-logloss:0.00008\tvalidation_1-error:0.00007\tvalidation_1-logloss:0.00008\n",
      "[49]\tvalidation_0-error:0.00000\tvalidation_0-logloss:0.00008\tvalidation_1-error:0.00007\tvalidation_1-logloss:0.00008\n",
      "[50]\tvalidation_0-error:0.00000\tvalidation_0-logloss:0.00008\tvalidation_1-error:0.00007\tvalidation_1-logloss:0.00008\n",
      "[51]\tvalidation_0-error:0.00000\tvalidation_0-logloss:0.00008\tvalidation_1-error:0.00007\tvalidation_1-logloss:0.00008\n",
      "[52]\tvalidation_0-error:0.00000\tvalidation_0-logloss:0.00008\tvalidation_1-error:0.00007\tvalidation_1-logloss:0.00008\n",
      "[53]\tvalidation_0-error:0.00000\tvalidation_0-logloss:0.00008\tvalidation_1-error:0.00007\tvalidation_1-logloss:0.00008\n",
      "[54]\tvalidation_0-error:0.00000\tvalidation_0-logloss:0.00008\tvalidation_1-error:0.00007\tvalidation_1-logloss:0.00008\n",
      "[55]\tvalidation_0-error:0.00000\tvalidation_0-logloss:0.00008\tvalidation_1-error:0.00007\tvalidation_1-logloss:0.00008\n",
      "[56]\tvalidation_0-error:0.00000\tvalidation_0-logloss:0.00008\tvalidation_1-error:0.00007\tvalidation_1-logloss:0.00008\n",
      "[57]\tvalidation_0-error:0.00000\tvalidation_0-logloss:0.00008\tvalidation_1-error:0.00007\tvalidation_1-logloss:0.00008\n",
      "[58]\tvalidation_0-error:0.00000\tvalidation_0-logloss:0.00008\tvalidation_1-error:0.00007\tvalidation_1-logloss:0.00008\n",
      "[59]\tvalidation_0-error:0.00000\tvalidation_0-logloss:0.00008\tvalidation_1-error:0.00007\tvalidation_1-logloss:0.00008\n",
      "[60]\tvalidation_0-error:0.00000\tvalidation_0-logloss:0.00008\tvalidation_1-error:0.00007\tvalidation_1-logloss:0.00008\n",
      "[61]\tvalidation_0-error:0.00000\tvalidation_0-logloss:0.00008\tvalidation_1-error:0.00007\tvalidation_1-logloss:0.00008\n",
      "[62]\tvalidation_0-error:0.00000\tvalidation_0-logloss:0.00008\tvalidation_1-error:0.00007\tvalidation_1-logloss:0.00008\n",
      "[63]\tvalidation_0-error:0.00000\tvalidation_0-logloss:0.00008\tvalidation_1-error:0.00007\tvalidation_1-logloss:0.00008\n",
      "[64]\tvalidation_0-error:0.00000\tvalidation_0-logloss:0.00008\tvalidation_1-error:0.00007\tvalidation_1-logloss:0.00008\n",
      "[65]\tvalidation_0-error:0.00000\tvalidation_0-logloss:0.00008\tvalidation_1-error:0.00007\tvalidation_1-logloss:0.00008\n",
      "[66]\tvalidation_0-error:0.00000\tvalidation_0-logloss:0.00008\tvalidation_1-error:0.00007\tvalidation_1-logloss:0.00008\n",
      "[67]\tvalidation_0-error:0.00000\tvalidation_0-logloss:0.00008\tvalidation_1-error:0.00007\tvalidation_1-logloss:0.00008\n",
      "[68]\tvalidation_0-error:0.00000\tvalidation_0-logloss:0.00008\tvalidation_1-error:0.00007\tvalidation_1-logloss:0.00008\n",
      "[69]\tvalidation_0-error:0.00000\tvalidation_0-logloss:0.00008\tvalidation_1-error:0.00007\tvalidation_1-logloss:0.00008\n",
      "[70]\tvalidation_0-error:0.00000\tvalidation_0-logloss:0.00008\tvalidation_1-error:0.00007\tvalidation_1-logloss:0.00008\n",
      "[71]\tvalidation_0-error:0.00000\tvalidation_0-logloss:0.00008\tvalidation_1-error:0.00007\tvalidation_1-logloss:0.00008\n",
      "[72]\tvalidation_0-error:0.00000\tvalidation_0-logloss:0.00008\tvalidation_1-error:0.00007\tvalidation_1-logloss:0.00008\n",
      "[73]\tvalidation_0-error:0.00000\tvalidation_0-logloss:0.00008\tvalidation_1-error:0.00007\tvalidation_1-logloss:0.00008\n",
      "[74]\tvalidation_0-error:0.00000\tvalidation_0-logloss:0.00008\tvalidation_1-error:0.00007\tvalidation_1-logloss:0.00008\n",
      "[75]\tvalidation_0-error:0.00000\tvalidation_0-logloss:0.00008\tvalidation_1-error:0.00007\tvalidation_1-logloss:0.00008\n",
      "[76]\tvalidation_0-error:0.00000\tvalidation_0-logloss:0.00008\tvalidation_1-error:0.00007\tvalidation_1-logloss:0.00008\n",
      "[77]\tvalidation_0-error:0.00000\tvalidation_0-logloss:0.00008\tvalidation_1-error:0.00007\tvalidation_1-logloss:0.00008\n",
      "[78]\tvalidation_0-error:0.00000\tvalidation_0-logloss:0.00008\tvalidation_1-error:0.00007\tvalidation_1-logloss:0.00008\n",
      "[79]\tvalidation_0-error:0.00000\tvalidation_0-logloss:0.00008\tvalidation_1-error:0.00007\tvalidation_1-logloss:0.00008\n",
      "[80]\tvalidation_0-error:0.00000\tvalidation_0-logloss:0.00008\tvalidation_1-error:0.00007\tvalidation_1-logloss:0.00008\n",
      "[81]\tvalidation_0-error:0.00000\tvalidation_0-logloss:0.00008\tvalidation_1-error:0.00007\tvalidation_1-logloss:0.00008\n",
      "[82]\tvalidation_0-error:0.00000\tvalidation_0-logloss:0.00008\tvalidation_1-error:0.00007\tvalidation_1-logloss:0.00008\n",
      "[83]\tvalidation_0-error:0.00000\tvalidation_0-logloss:0.00008\tvalidation_1-error:0.00007\tvalidation_1-logloss:0.00008\n",
      "[84]\tvalidation_0-error:0.00000\tvalidation_0-logloss:0.00008\tvalidation_1-error:0.00007\tvalidation_1-logloss:0.00008\n",
      "[85]\tvalidation_0-error:0.00000\tvalidation_0-logloss:0.00008\tvalidation_1-error:0.00007\tvalidation_1-logloss:0.00008\n",
      "[86]\tvalidation_0-error:0.00000\tvalidation_0-logloss:0.00008\tvalidation_1-error:0.00007\tvalidation_1-logloss:0.00008\n",
      "[87]\tvalidation_0-error:0.00000\tvalidation_0-logloss:0.00008\tvalidation_1-error:0.00007\tvalidation_1-logloss:0.00008\n",
      "[88]\tvalidation_0-error:0.00000\tvalidation_0-logloss:0.00008\tvalidation_1-error:0.00007\tvalidation_1-logloss:0.00008\n",
      "[89]\tvalidation_0-error:0.00000\tvalidation_0-logloss:0.00008\tvalidation_1-error:0.00007\tvalidation_1-logloss:0.00008\n",
      "[90]\tvalidation_0-error:0.00000\tvalidation_0-logloss:0.00008\tvalidation_1-error:0.00007\tvalidation_1-logloss:0.00008\n",
      "[91]\tvalidation_0-error:0.00000\tvalidation_0-logloss:0.00008\tvalidation_1-error:0.00007\tvalidation_1-logloss:0.00008\n",
      "[92]\tvalidation_0-error:0.00000\tvalidation_0-logloss:0.00008\tvalidation_1-error:0.00007\tvalidation_1-logloss:0.00008\n",
      "[93]\tvalidation_0-error:0.00000\tvalidation_0-logloss:0.00008\tvalidation_1-error:0.00007\tvalidation_1-logloss:0.00008\n",
      "[94]\tvalidation_0-error:0.00000\tvalidation_0-logloss:0.00008\tvalidation_1-error:0.00007\tvalidation_1-logloss:0.00008\n",
      "[95]\tvalidation_0-error:0.00000\tvalidation_0-logloss:0.00008\tvalidation_1-error:0.00007\tvalidation_1-logloss:0.00008\n",
      "[96]\tvalidation_0-error:0.00000\tvalidation_0-logloss:0.00008\tvalidation_1-error:0.00007\tvalidation_1-logloss:0.00008\n",
      "[97]\tvalidation_0-error:0.00000\tvalidation_0-logloss:0.00008\tvalidation_1-error:0.00007\tvalidation_1-logloss:0.00008\n",
      "[98]\tvalidation_0-error:0.00000\tvalidation_0-logloss:0.00008\tvalidation_1-error:0.00007\tvalidation_1-logloss:0.00008\n",
      "[99]\tvalidation_0-error:0.00000\tvalidation_0-logloss:0.00008\tvalidation_1-error:0.00007\tvalidation_1-logloss:0.00008\n"
     ]
    },
    {
     "data": {
      "text/html": [
       "<style>#sk-container-id-5 {color: black;background-color: white;}#sk-container-id-5 pre{padding: 0;}#sk-container-id-5 div.sk-toggleable {background-color: white;}#sk-container-id-5 label.sk-toggleable__label {cursor: pointer;display: block;width: 100%;margin-bottom: 0;padding: 0.3em;box-sizing: border-box;text-align: center;}#sk-container-id-5 label.sk-toggleable__label-arrow:before {content: \"▸\";float: left;margin-right: 0.25em;color: #696969;}#sk-container-id-5 label.sk-toggleable__label-arrow:hover:before {color: black;}#sk-container-id-5 div.sk-estimator:hover label.sk-toggleable__label-arrow:before {color: black;}#sk-container-id-5 div.sk-toggleable__content {max-height: 0;max-width: 0;overflow: hidden;text-align: left;background-color: #f0f8ff;}#sk-container-id-5 div.sk-toggleable__content pre {margin: 0.2em;color: black;border-radius: 0.25em;background-color: #f0f8ff;}#sk-container-id-5 input.sk-toggleable__control:checked~div.sk-toggleable__content {max-height: 200px;max-width: 100%;overflow: auto;}#sk-container-id-5 input.sk-toggleable__control:checked~label.sk-toggleable__label-arrow:before {content: \"▾\";}#sk-container-id-5 div.sk-estimator input.sk-toggleable__control:checked~label.sk-toggleable__label {background-color: #d4ebff;}#sk-container-id-5 div.sk-label input.sk-toggleable__control:checked~label.sk-toggleable__label {background-color: #d4ebff;}#sk-container-id-5 input.sk-hidden--visually {border: 0;clip: rect(1px 1px 1px 1px);clip: rect(1px, 1px, 1px, 1px);height: 1px;margin: -1px;overflow: hidden;padding: 0;position: absolute;width: 1px;}#sk-container-id-5 div.sk-estimator {font-family: monospace;background-color: #f0f8ff;border: 1px dotted black;border-radius: 0.25em;box-sizing: border-box;margin-bottom: 0.5em;}#sk-container-id-5 div.sk-estimator:hover {background-color: #d4ebff;}#sk-container-id-5 div.sk-parallel-item::after {content: \"\";width: 100%;border-bottom: 1px solid gray;flex-grow: 1;}#sk-container-id-5 div.sk-label:hover label.sk-toggleable__label {background-color: #d4ebff;}#sk-container-id-5 div.sk-serial::before {content: \"\";position: absolute;border-left: 1px solid gray;box-sizing: border-box;top: 0;bottom: 0;left: 50%;z-index: 0;}#sk-container-id-5 div.sk-serial {display: flex;flex-direction: column;align-items: center;background-color: white;padding-right: 0.2em;padding-left: 0.2em;position: relative;}#sk-container-id-5 div.sk-item {position: relative;z-index: 1;}#sk-container-id-5 div.sk-parallel {display: flex;align-items: stretch;justify-content: center;background-color: white;position: relative;}#sk-container-id-5 div.sk-item::before, #sk-container-id-5 div.sk-parallel-item::before {content: \"\";position: absolute;border-left: 1px solid gray;box-sizing: border-box;top: 0;bottom: 0;left: 50%;z-index: -1;}#sk-container-id-5 div.sk-parallel-item {display: flex;flex-direction: column;z-index: 1;position: relative;background-color: white;}#sk-container-id-5 div.sk-parallel-item:first-child::after {align-self: flex-end;width: 50%;}#sk-container-id-5 div.sk-parallel-item:last-child::after {align-self: flex-start;width: 50%;}#sk-container-id-5 div.sk-parallel-item:only-child::after {width: 0;}#sk-container-id-5 div.sk-dashed-wrapped {border: 1px dashed gray;margin: 0 0.4em 0.5em 0.4em;box-sizing: border-box;padding-bottom: 0.4em;background-color: white;}#sk-container-id-5 div.sk-label label {font-family: monospace;font-weight: bold;display: inline-block;line-height: 1.2em;}#sk-container-id-5 div.sk-label-container {text-align: center;}#sk-container-id-5 div.sk-container {/* jupyter's `normalize.less` sets `[hidden] { display: none; }` but bootstrap.min.css set `[hidden] { display: none !important; }` so we also need the `!important` here to be able to override the default hidden behavior on the sphinx rendered scikit-learn.org. See: https://github.com/scikit-learn/scikit-learn/issues/21755 */display: inline-block !important;position: relative;}#sk-container-id-5 div.sk-text-repr-fallback {display: none;}</style><div id=\"sk-container-id-5\" class=\"sk-top-container\"><div class=\"sk-text-repr-fallback\"><pre>XGBClassifier(base_score=None, booster=None, callbacks=None,\n",
       "              colsample_bylevel=None, colsample_bynode=None,\n",
       "              colsample_bytree=None, early_stopping_rounds=None,\n",
       "              enable_categorical=False, eval_metric=None, feature_types=None,\n",
       "              gamma=None, gpu_id=None, grow_policy=None, importance_type=None,\n",
       "              interaction_constraints=None, learning_rate=None, max_bin=None,\n",
       "              max_cat_threshold=None, max_cat_to_onehot=None,\n",
       "              max_delta_step=None, max_depth=None, max_leaves=None,\n",
       "              min_child_weight=None, missing=nan, monotone_constraints=None,\n",
       "              n_estimators=100, n_jobs=None, num_parallel_tree=None,\n",
       "              predictor=None, random_state=None, ...)</pre><b>In a Jupyter environment, please rerun this cell to show the HTML representation or trust the notebook. <br />On GitHub, the HTML representation is unable to render, please try loading this page with nbviewer.org.</b></div><div class=\"sk-container\" hidden><div class=\"sk-item\"><div class=\"sk-estimator sk-toggleable\"><input class=\"sk-toggleable__control sk-hidden--visually\" id=\"sk-estimator-id-5\" type=\"checkbox\" checked><label for=\"sk-estimator-id-5\" class=\"sk-toggleable__label sk-toggleable__label-arrow\">XGBClassifier</label><div class=\"sk-toggleable__content\"><pre>XGBClassifier(base_score=None, booster=None, callbacks=None,\n",
       "              colsample_bylevel=None, colsample_bynode=None,\n",
       "              colsample_bytree=None, early_stopping_rounds=None,\n",
       "              enable_categorical=False, eval_metric=None, feature_types=None,\n",
       "              gamma=None, gpu_id=None, grow_policy=None, importance_type=None,\n",
       "              interaction_constraints=None, learning_rate=None, max_bin=None,\n",
       "              max_cat_threshold=None, max_cat_to_onehot=None,\n",
       "              max_delta_step=None, max_depth=None, max_leaves=None,\n",
       "              min_child_weight=None, missing=nan, monotone_constraints=None,\n",
       "              n_estimators=100, n_jobs=None, num_parallel_tree=None,\n",
       "              predictor=None, random_state=None, ...)</pre></div></div></div></div></div>"
      ],
      "text/plain": [
       "XGBClassifier(base_score=None, booster=None, callbacks=None,\n",
       "              colsample_bylevel=None, colsample_bynode=None,\n",
       "              colsample_bytree=None, early_stopping_rounds=None,\n",
       "              enable_categorical=False, eval_metric=None, feature_types=None,\n",
       "              gamma=None, gpu_id=None, grow_policy=None, importance_type=None,\n",
       "              interaction_constraints=None, learning_rate=None, max_bin=None,\n",
       "              max_cat_threshold=None, max_cat_to_onehot=None,\n",
       "              max_delta_step=None, max_depth=None, max_leaves=None,\n",
       "              min_child_weight=None, missing=nan, monotone_constraints=None,\n",
       "              n_estimators=100, n_jobs=None, num_parallel_tree=None,\n",
       "              predictor=None, random_state=None, ...)"
      ]
     },
     "execution_count": 20,
     "metadata": {},
     "output_type": "execute_result"
    }
   ],
   "source": [
    "model = XGBClassifier()\n",
    "eval_set = [(x_train,y_train),(X_test,Y_test)]\n",
    "model.fit(x_train,y_train,early_stopping_rounds=10,eval_metric=[\"error\",\"logloss\"],eval_set=eval_set,verbose=True)"
   ]
  },
  {
   "cell_type": "code",
   "execution_count": 21,
   "metadata": {},
   "outputs": [],
   "source": [
    "y_pred = model.predict(X_test)\n",
    "predictions = [round(value) for value in y_pred]"
   ]
  },
  {
   "cell_type": "code",
   "execution_count": 22,
   "metadata": {},
   "outputs": [
    {
     "name": "stdout",
     "output_type": "stream",
     "text": [
      "Accuracy:  99.99%\n"
     ]
    }
   ],
   "source": [
    "#evaluate predictions\n",
    "from sklearn.metrics import accuracy_score\n",
    "accuracy = accuracy_score(Y_test, predictions)\n",
    "print(\"Accuracy:  %.2f%%\"%(accuracy *100.0))"
   ]
  },
  {
   "cell_type": "code",
   "execution_count": 14,
   "metadata": {},
   "outputs": [
    {
     "data": {
      "text/html": [
       "<style>#sk-container-id-3 {color: black;background-color: white;}#sk-container-id-3 pre{padding: 0;}#sk-container-id-3 div.sk-toggleable {background-color: white;}#sk-container-id-3 label.sk-toggleable__label {cursor: pointer;display: block;width: 100%;margin-bottom: 0;padding: 0.3em;box-sizing: border-box;text-align: center;}#sk-container-id-3 label.sk-toggleable__label-arrow:before {content: \"▸\";float: left;margin-right: 0.25em;color: #696969;}#sk-container-id-3 label.sk-toggleable__label-arrow:hover:before {color: black;}#sk-container-id-3 div.sk-estimator:hover label.sk-toggleable__label-arrow:before {color: black;}#sk-container-id-3 div.sk-toggleable__content {max-height: 0;max-width: 0;overflow: hidden;text-align: left;background-color: #f0f8ff;}#sk-container-id-3 div.sk-toggleable__content pre {margin: 0.2em;color: black;border-radius: 0.25em;background-color: #f0f8ff;}#sk-container-id-3 input.sk-toggleable__control:checked~div.sk-toggleable__content {max-height: 200px;max-width: 100%;overflow: auto;}#sk-container-id-3 input.sk-toggleable__control:checked~label.sk-toggleable__label-arrow:before {content: \"▾\";}#sk-container-id-3 div.sk-estimator input.sk-toggleable__control:checked~label.sk-toggleable__label {background-color: #d4ebff;}#sk-container-id-3 div.sk-label input.sk-toggleable__control:checked~label.sk-toggleable__label {background-color: #d4ebff;}#sk-container-id-3 input.sk-hidden--visually {border: 0;clip: rect(1px 1px 1px 1px);clip: rect(1px, 1px, 1px, 1px);height: 1px;margin: -1px;overflow: hidden;padding: 0;position: absolute;width: 1px;}#sk-container-id-3 div.sk-estimator {font-family: monospace;background-color: #f0f8ff;border: 1px dotted black;border-radius: 0.25em;box-sizing: border-box;margin-bottom: 0.5em;}#sk-container-id-3 div.sk-estimator:hover {background-color: #d4ebff;}#sk-container-id-3 div.sk-parallel-item::after {content: \"\";width: 100%;border-bottom: 1px solid gray;flex-grow: 1;}#sk-container-id-3 div.sk-label:hover label.sk-toggleable__label {background-color: #d4ebff;}#sk-container-id-3 div.sk-serial::before {content: \"\";position: absolute;border-left: 1px solid gray;box-sizing: border-box;top: 0;bottom: 0;left: 50%;z-index: 0;}#sk-container-id-3 div.sk-serial {display: flex;flex-direction: column;align-items: center;background-color: white;padding-right: 0.2em;padding-left: 0.2em;position: relative;}#sk-container-id-3 div.sk-item {position: relative;z-index: 1;}#sk-container-id-3 div.sk-parallel {display: flex;align-items: stretch;justify-content: center;background-color: white;position: relative;}#sk-container-id-3 div.sk-item::before, #sk-container-id-3 div.sk-parallel-item::before {content: \"\";position: absolute;border-left: 1px solid gray;box-sizing: border-box;top: 0;bottom: 0;left: 50%;z-index: -1;}#sk-container-id-3 div.sk-parallel-item {display: flex;flex-direction: column;z-index: 1;position: relative;background-color: white;}#sk-container-id-3 div.sk-parallel-item:first-child::after {align-self: flex-end;width: 50%;}#sk-container-id-3 div.sk-parallel-item:last-child::after {align-self: flex-start;width: 50%;}#sk-container-id-3 div.sk-parallel-item:only-child::after {width: 0;}#sk-container-id-3 div.sk-dashed-wrapped {border: 1px dashed gray;margin: 0 0.4em 0.5em 0.4em;box-sizing: border-box;padding-bottom: 0.4em;background-color: white;}#sk-container-id-3 div.sk-label label {font-family: monospace;font-weight: bold;display: inline-block;line-height: 1.2em;}#sk-container-id-3 div.sk-label-container {text-align: center;}#sk-container-id-3 div.sk-container {/* jupyter's `normalize.less` sets `[hidden] { display: none; }` but bootstrap.min.css set `[hidden] { display: none !important; }` so we also need the `!important` here to be able to override the default hidden behavior on the sphinx rendered scikit-learn.org. See: https://github.com/scikit-learn/scikit-learn/issues/21755 */display: inline-block !important;position: relative;}#sk-container-id-3 div.sk-text-repr-fallback {display: none;}</style><div id=\"sk-container-id-3\" class=\"sk-top-container\"><div class=\"sk-text-repr-fallback\"><pre>RandomForestClassifier()</pre><b>In a Jupyter environment, please rerun this cell to show the HTML representation or trust the notebook. <br />On GitHub, the HTML representation is unable to render, please try loading this page with nbviewer.org.</b></div><div class=\"sk-container\" hidden><div class=\"sk-item\"><div class=\"sk-estimator sk-toggleable\"><input class=\"sk-toggleable__control sk-hidden--visually\" id=\"sk-estimator-id-3\" type=\"checkbox\" checked><label for=\"sk-estimator-id-3\" class=\"sk-toggleable__label sk-toggleable__label-arrow\">RandomForestClassifier</label><div class=\"sk-toggleable__content\"><pre>RandomForestClassifier()</pre></div></div></div></div></div>"
      ],
      "text/plain": [
       "RandomForestClassifier()"
      ]
     },
     "execution_count": 14,
     "metadata": {},
     "output_type": "execute_result"
    }
   ],
   "source": [
    "from sklearn.ensemble import RandomForestClassifier\n",
    "model2 = RandomForestClassifier()\n",
    "model2.fit(x_train,y_train)"
   ]
  },
  {
   "cell_type": "code",
   "execution_count": 15,
   "metadata": {},
   "outputs": [],
   "source": [
    "y_pred2 = model2.predict(X_test)"
   ]
  },
  {
   "cell_type": "code",
   "execution_count": 17,
   "metadata": {},
   "outputs": [
    {
     "name": "stdout",
     "output_type": "stream",
     "text": [
      "Accuracy:  100.00%\n"
     ]
    }
   ],
   "source": [
    "#evaluate predictions\n",
    "from sklearn.metrics import accuracy_score\n",
    "accuracy = accuracy_score(Y_test, y_pred2)\n",
    "print(\"Accuracy:  %.2f%%\"%(accuracy *100.0))"
   ]
  },
  {
   "cell_type": "code",
   "execution_count": null,
   "metadata": {},
   "outputs": [],
   "source": []
  }
 ],
 "metadata": {
  "kernelspec": {
   "display_name": "Python 3.10.7 64-bit",
   "language": "python",
   "name": "python3"
  },
  "language_info": {
   "codemirror_mode": {
    "name": "ipython",
    "version": 3
   },
   "file_extension": ".py",
   "mimetype": "text/x-python",
   "name": "python",
   "nbconvert_exporter": "python",
   "pygments_lexer": "ipython3",
   "version": "3.10.7"
  },
  "orig_nbformat": 4,
  "vscode": {
   "interpreter": {
    "hash": "916dbcbb3f70747c44a77c7bcd40155683ae19c65e1c03b4aa3499c5328201f1"
   }
  }
 },
 "nbformat": 4,
 "nbformat_minor": 2
}
